{
 "cells": [
  {
   "cell_type": "code",
   "execution_count": 1,
   "metadata": {},
   "outputs": [],
   "source": [
    "import numpy as np\n",
    "import matplotlib.pyplot as plt\n",
    "from scipy import integrate"
   ]
  },
  {
   "cell_type": "code",
   "execution_count": 123,
   "metadata": {},
   "outputs": [],
   "source": [
    "###################################################################\n",
    "# Plot options\n",
    "###################################################################\n",
    "font = {'family' : 'serif',\n",
    "        'serif'   : 'palatino',\n",
    "        #'sans-serif'    : 'Computer Modern Sans serif',\n",
    "        'style'   : 'normal',\n",
    "        'variant'   : 'normal',\n",
    "        'stretch'   : 'normal',\n",
    "        'weight'   : 'normal',\n",
    "        'size'   : 9}\n",
    "plt.rc('font', **font)\n",
    "plt.rc('text', usetex=True)\n",
    "#plt.rcParams['figure.figsize'] = (3.37,2.25)\n",
    "plt.rcParams['figure.figsize'] = (6.72,3)\n"
   ]
  },
  {
   "cell_type": "code",
   "execution_count": 101,
   "metadata": {},
   "outputs": [],
   "source": [
    "palette=plt.rcParams['axes.prop_cycle'].by_key()['color']"
   ]
  },
  {
   "cell_type": "markdown",
   "metadata": {},
   "source": [
    "# Multilambda"
   ]
  },
  {
   "cell_type": "code",
   "execution_count": 134,
   "metadata": {},
   "outputs": [],
   "source": [
    "molecules=384\n",
    "kT=3.68328364 #kJ/mol"
   ]
  },
  {
   "cell_type": "code",
   "execution_count": 135,
   "metadata": {},
   "outputs": [],
   "source": [
    "dataml=np.genfromtxt(\"COLVAR\")"
   ]
  },
  {
   "cell_type": "code",
   "execution_count": 150,
   "metadata": {},
   "outputs": [],
   "source": [
    "time=dataml[:,0]\n",
    "enewat=dataml[:,1]\n",
    "enelj=dataml[:,2]\n",
    "deltau=dataml[:,3]\n",
    "bias=dataml[:,4]"
   ]
  },
  {
   "cell_type": "code",
   "execution_count": 103,
   "metadata": {},
   "outputs": [],
   "source": [
    "def batch(data,total_batch_num,batch_num):\n",
    "    \"\"\"Make batches or blocks.\n",
    "\n",
    "    Args:\n",
    "        data (numpy array): Data\n",
    "        total_batch_num (int): Total desired number of batches (blocks)\n",
    "        batch_num (int): Number of the batch that will be returned\n",
    "\n",
    "    Returns:\n",
    "        numpy array: The selected batch of the data array\n",
    "    \"\"\"\n",
    "    if (batch_num<0):\n",
    "        raise Exception('batch_num must be greater than 0! Start from index 0')\n",
    "    if (batch_num>(total_batch_num-1)):\n",
    "        raise Exception('batch_num must be smaller than total_batch_num-1!')\n",
    "    batch_size=int(data.shape[0]/total_batch_num)\n",
    "    start=batch_size*batch_num\n",
    "    end=batch_size*(batch_num+1)\n",
    "    if (end>data.shape[0] or batch_num==(total_batch_num-1)):\n",
    "        end=data.shape[0]\n",
    "    return data[start:end]"
   ]
  },
  {
   "cell_type": "code",
   "execution_count": 104,
   "metadata": {},
   "outputs": [],
   "source": [
    "def averageBatch(values,weights,total_batch_num):\n",
    "    \"\"\"Find the weighted average of some quantity in batches\n",
    "\n",
    "    Args:\n",
    "        values (numpy array): Data to be averages\n",
    "        weights (numpy array): Weights\n",
    "        total_batch_num (int): Total desired number of batches (blocks)\n",
    "\n",
    "    Returns:\n",
    "        numpy array: The weighted average of the data in each batch (block)\n",
    "        numpy array: The weights of each batch (block)\n",
    "\n",
    "    \"\"\"\n",
    "    valuesVector=np.zeros([total_batch_num])\n",
    "    Z=np.zeros([total_batch_num])\n",
    "    for k in range(total_batch_num):\n",
    "        valuesVector[k]=np.average(batch(values,total_batch_num,k),weights=batch(weights,total_batch_num,k))\n",
    "        Z[k]=np.sum(batch(weights,total_batch_num,k))\n",
    "    return valuesVector, Z"
   ]
  },
  {
   "cell_type": "code",
   "execution_count": 105,
   "metadata": {},
   "outputs": [],
   "source": [
    "def observableAvgBatch(observable,bias,temperature,total_batch_num):\n",
    "    \"\"\"Find the average in blocks of some observable that was sampled in a biased simulation.\n",
    "\n",
    "    Args:\n",
    "        observable (numpy array): Observable\n",
    "        bias (numpy array): Bias potential in kJ/mol\n",
    "        temperature (float): Temperature in K\n",
    "        total_batch_num (int): Total desired number of batches (blocks)\n",
    "\n",
    "    Returns:\n",
    "        numpy array: The average of the observable in each batch (block)\n",
    "        numpy array: The weights of each batch (block)\n",
    "\n",
    "    \"\"\"\n",
    "    beta=1./(0.00831441001626*temperature)\n",
    "    return averageBatch(observable,np.exp(beta*bias),total_batch_num)"
   ]
  },
  {
   "cell_type": "code",
   "execution_count": 106,
   "metadata": {},
   "outputs": [],
   "source": [
    "def stdWithWeights(values, weights):\n",
    "    \"\"\"Calculate a standard deviation of observations with weights.\n",
    "\n",
    "    Args:\n",
    "        values (numpy array): Data\n",
    "        weights (numpy array): Weights\n",
    "\n",
    "    Returns:\n",
    "        float: Standard deviation\n",
    "    \"\"\"\n",
    "    average = np.average(values, weights=weights)\n",
    "    # Fast and numerically precise:\n",
    "    variance = np.average((values-average)**2, weights=weights)\n",
    "    N=float(values.shape[0])\n",
    "    return np.sqrt(variance*N/(N-1))"
   ]
  },
  {
   "cell_type": "code",
   "execution_count": 180,
   "metadata": {},
   "outputs": [],
   "source": [
    "# Calculate integrand and error\n",
    "mylambda=np.linspace(0,1,1000)\n",
    "integrand=np.zeros(mylambda.shape[0])\n",
    "ignore=20000\n",
    "N=10 # batches\n",
    "stddevintegrand=np.zeros(mylambda.shape[0])\n",
    "neff=np.zeros(mylambda.shape[0])\n",
    "temperature=443\n",
    "beta=1./(0.00831441001626*temperature)\n",
    "for i in range(mylambda.shape[0]):\n",
    "    totalbias=bias[ignore:]+mylambda[i]*(-deltau[ignore:])\n",
    "    totalbias -= np.mean(totalbias) + 1000\n",
    "    avg=np.zeros(N)\n",
    "    weights=np.zeros(N)\n",
    "    avg, weights = observableAvgBatch(deltau[ignore:]/(kT*molecules),totalbias,temperature,N)\n",
    "    integrand[i], dummy = observableAvgBatch(deltau[ignore:]/(kT*molecules),totalbias,temperature,1)\n",
    "    stddevintegrand[i]=stdWithWeights(avg,weights)/np.sqrt(N)\n",
    "    norm = np.sum(np.exp(beta*totalbias))\n",
    "    weights2 = np.sum(np.power(np.exp(beta*totalbias)/norm,2))\n",
    "    neff[i]=1/weights2"
   ]
  },
  {
   "cell_type": "code",
   "execution_count": 186,
   "metadata": {},
   "outputs": [
    {
     "name": "stdout",
     "output_type": "stream",
     "text": [
      "6.996417425132498\n"
     ]
    },
    {
     "data": {
      "image/png": "[encoded data removed]",
      "text/plain": [
       "<Figure size 483.84x216 with 2 Axes>"
      ]
     },
     "metadata": {
      "needs_background": "light"
     },
     "output_type": "display_data"
    }
   ],
   "source": [
    "f, (ax1, ax2) = plt.subplots(1,2) #, sharey=True)\n",
    "\n",
    "ax2.plot(mylambda,integrand,c=palette[1],zorder=0,label=\"multilambda\")\n",
    "# Error too small to be plotter\n",
    "#ax2.errorbar(mylambda[::10],integrand[::10],stddevintegrand[::10],c=palette[1],zorder=1)\n",
    "ax2.fill_between(mylambda,integrand,0,alpha=0.2,color=palette[1])\n",
    "print(integrate.simps(integrand,x=mylambda))\n",
    "ax2.set_xlabel(r'$\\lambda$')\n",
    "ax2.set_xlim([0,1])\n",
    "ax2.plot([0,1],[0,0],'--',color='black',alpha=0.5,linewidth=1)\n",
    "ax2.set_ylabel(r'$\\langle U_{LJ} - U_{TIP4P} \\rangle_{\\lambda}$ (NkT)')\n",
    "ax2.set_ylim([-1,12])\n",
    "ax2.set_yticks([0,6,12])\n",
    "ax2.text(0.0,-3,'TIP4P',ha='center',va='center')\n",
    "ax2.text(1.0,-3,'LJ',ha='center',va='center')\n",
    "ax2.text(0.95,11,'b)',ha='center',va='center')\n",
    "\n",
    "ax1.plot((time-time[0])/1000,deltau/(kT*molecules),color=palette[0],linewidth=0.5)\n",
    "ax1.set_xlim([0,20])\n",
    "ax1.set_xticks([0,10,20])\n",
    "ax1.plot([0,20],[0,0],'--',color='black',alpha=0.5,linewidth=1)\n",
    "ax1.set_xlabel(\"Time (ns)\")\n",
    "ax1.set_ylim([-1,12])\n",
    "ax1.set_yticks([0,6,12])\n",
    "ax1.set_ylabel(r'$U_{LJ} - U_{TIP4P}$ (NkT)')\n",
    "ax1.text(1.0,11,'a)',ha='center',va='center')\n",
    "\n",
    "plt.tight_layout()\n",
    "\n",
    "plt.savefig(\"Figure.pdf\", bbox_inches='tight')\n",
    "\n",
    "plt.show()"
   ]
  },
  {
   "cell_type": "markdown",
   "metadata": {},
   "source": [
    "# Effective sample size"
   ]
  },
  {
   "cell_type": "code",
   "execution_count": 182,
   "metadata": {},
   "outputs": [
    {
     "data": {
      "image/png": "[encoded data removed]",
      "text/plain": [
       "<Figure size 483.84x216 with 1 Axes>"
      ]
     },
     "metadata": {
      "needs_background": "light"
     },
     "output_type": "display_data"
    }
   ],
   "source": [
    "totalSamples=deltau[ignore:].shape[0]\n",
    "plt.plot(mylambda,100*neff/totalSamples)\n",
    "plt.xlabel(\"Lambda\")\n",
    "plt.ylabel(r'Effective sample size $(\\%)$')\n",
    "plt.xlim([0,1])\n",
    "#plt.ylim([-12,0])\n",
    "plt.show()"
   ]
  },
  {
   "cell_type": "code",
   "execution_count": null,
   "metadata": {},
   "outputs": [],
   "source": []
  }
 ],
 "metadata": {
  "kernelspec": {
   "display_name": "Python 3",
   "language": "python",
   "name": "python3"
  },
  "language_info": {
   "codemirror_mode": {
    "name": "ipython",
    "version": 3
   },
   "file_extension": ".py",
   "mimetype": "text/x-python",
   "name": "python",
   "nbconvert_exporter": "python",
   "pygments_lexer": "ipython3",
   "version": "3.6.9"
  }
 },
 "nbformat": 4,
 "nbformat_minor": 2
}
